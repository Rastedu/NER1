{
 "cells": [
  {
   "cell_type": "code",
   "execution_count": 4,
   "id": "a2fdd57e",
   "metadata": {},
   "outputs": [
    {
     "name": "stdout",
     "output_type": "stream",
     "text": [
      "Defaulting to user installation because normal site-packages is not writeable\n",
      "Requirement already satisfied: stanza in c:\\users\\1691166\\appdata\\roaming\\python\\python38\\site-packages (1.4.2)\n",
      "Requirement already satisfied: six in c:\\program files\\python38\\lib\\site-packages (from stanza) (1.16.0)\n",
      "Requirement already satisfied: requests in c:\\program files\\python38\\lib\\site-packages (from stanza) (2.28.1)\n",
      "Requirement already satisfied: tqdm in c:\\program files\\python38\\lib\\site-packages (from stanza) (4.64.1)\n",
      "Requirement already satisfied: protobuf in c:\\users\\1691166\\appdata\\roaming\\python\\python38\\site-packages (from stanza) (4.21.10)\n",
      "Requirement already satisfied: emoji in c:\\users\\1691166\\appdata\\roaming\\python\\python38\\site-packages (from stanza) (2.2.0)\n",
      "Requirement already satisfied: torch>=1.3.0 in c:\\users\\1691166\\appdata\\roaming\\python\\python38\\site-packages (from stanza) (1.13.0)\n",
      "Requirement already satisfied: numpy in c:\\program files\\python38\\lib\\site-packages (from stanza) (1.23.4)\n",
      "Requirement already satisfied: typing-extensions in c:\\program files\\python38\\lib\\site-packages (from torch>=1.3.0->stanza) (4.4.0)\n",
      "Requirement already satisfied: charset-normalizer<3,>=2 in c:\\program files\\python38\\lib\\site-packages (from requests->stanza) (2.1.1)\n",
      "Requirement already satisfied: idna<4,>=2.5 in c:\\program files\\python38\\lib\\site-packages (from requests->stanza) (3.4)\n",
      "Requirement already satisfied: urllib3<1.27,>=1.21.1 in c:\\program files\\python38\\lib\\site-packages (from requests->stanza) (1.26.13)\n",
      "Requirement already satisfied: certifi>=2017.4.17 in c:\\program files\\python38\\lib\\site-packages (from requests->stanza) (2022.9.24)\n",
      "Requirement already satisfied: colorama in c:\\program files\\python38\\lib\\site-packages (from tqdm->stanza) (0.4.6)\n",
      "Note: you may need to restart the kernel to use updated packages.\n"
     ]
    }
   ],
   "source": [
    "pip install stanza"
   ]
  },
  {
   "cell_type": "code",
   "execution_count": 5,
   "id": "6f56f2c0",
   "metadata": {},
   "outputs": [],
   "source": [
    "import stanza\n"
   ]
  },
  {
   "cell_type": "code",
   "execution_count": 6,
   "id": "b4138a7a",
   "metadata": {},
   "outputs": [
    {
     "data": {
      "application/vnd.jupyter.widget-view+json": {
       "model_id": "b72d83bde48c44fbbd512b88f11b3195",
       "version_major": 2,
       "version_minor": 0
      },
      "text/plain": [
       "Downloading https://raw.githubusercontent.com/stanfordnlp/stanza-resources/main/resources_1.4.1.json:   0%|   …"
      ]
     },
     "metadata": {},
     "output_type": "display_data"
    },
    {
     "name": "stderr",
     "output_type": "stream",
     "text": [
      "2022-12-01 21:24:04 INFO: Downloading default packages for language: en (English) ...\n"
     ]
    },
    {
     "data": {
      "application/vnd.jupyter.widget-view+json": {
       "model_id": "086654f59fc54a0e8968c746e98586f4",
       "version_major": 2,
       "version_minor": 0
      },
      "text/plain": [
       "Downloading https://huggingface.co/stanfordnlp/stanza-en/resolve/v1.4.1/models/default.zip:   0%|          | 0…"
      ]
     },
     "metadata": {},
     "output_type": "display_data"
    },
    {
     "name": "stderr",
     "output_type": "stream",
     "text": [
      "2022-12-01 21:25:14 INFO: Finished downloading models and saved to C:\\Users\\1691166\\stanza_resources.\n"
     ]
    }
   ],
   "source": [
    "stanza.download('en')"
   ]
  },
  {
   "cell_type": "code",
   "execution_count": 7,
   "id": "255fe643",
   "metadata": {},
   "outputs": [
    {
     "name": "stderr",
     "output_type": "stream",
     "text": [
      "2022-12-01 21:26:11 INFO: Checking for updates to resources.json in case models have been updated.  Note: this behavior can be turned off with download_method=None or download_method=DownloadMethod.REUSE_RESOURCES\n"
     ]
    },
    {
     "data": {
      "application/vnd.jupyter.widget-view+json": {
       "model_id": "9bc117459e544f73a5e819709e591589",
       "version_major": 2,
       "version_minor": 0
      },
      "text/plain": [
       "Downloading https://raw.githubusercontent.com/stanfordnlp/stanza-resources/main/resources_1.4.1.json:   0%|   …"
      ]
     },
     "metadata": {},
     "output_type": "display_data"
    },
    {
     "name": "stderr",
     "output_type": "stream",
     "text": [
      "2022-12-01 21:26:12 INFO: Loading these models for language: en (English):\n",
      "========================\n",
      "| Processor | Package  |\n",
      "------------------------\n",
      "| tokenize  | combined |\n",
      "========================\n",
      "\n",
      "2022-12-01 21:26:12 INFO: Use device: cpu\n",
      "2022-12-01 21:26:12 INFO: Loading: tokenize\n",
      "2022-12-01 21:26:12 INFO: Done loading processors!\n"
     ]
    }
   ],
   "source": [
    "stanza_token = stanza.Pipeline('en' , processors=\"tokenize\")\n"
   ]
  },
  {
   "cell_type": "code",
   "execution_count": 9,
   "id": "1bb18a74",
   "metadata": {},
   "outputs": [
    {
     "data": {
      "text/plain": [
       "[\n",
       "  [\n",
       "    {\n",
       "      \"id\": 1,\n",
       "      \"text\": \"In\",\n",
       "      \"start_char\": 0,\n",
       "      \"end_char\": 2\n",
       "    },\n",
       "    {\n",
       "      \"id\": 2,\n",
       "      \"text\": \"2017\",\n",
       "      \"start_char\": 3,\n",
       "      \"end_char\": 7\n",
       "    },\n",
       "    {\n",
       "      \"id\": 3,\n",
       "      \"text\": \",\",\n",
       "      \"start_char\": 7,\n",
       "      \"end_char\": 8\n",
       "    },\n",
       "    {\n",
       "      \"id\": 4,\n",
       "      \"text\": \"he\",\n",
       "      \"start_char\": 9,\n",
       "      \"end_char\": 11\n",
       "    },\n",
       "    {\n",
       "      \"id\": 5,\n",
       "      \"text\": \"went\",\n",
       "      \"start_char\": 12,\n",
       "      \"end_char\": 16\n",
       "    },\n",
       "    {\n",
       "      \"id\": 6,\n",
       "      \"text\": \"to\",\n",
       "      \"start_char\": 17,\n",
       "      \"end_char\": 19\n",
       "    },\n",
       "    {\n",
       "      \"id\": 7,\n",
       "      \"text\": \"Paris\",\n",
       "      \"start_char\": 20,\n",
       "      \"end_char\": 25\n",
       "    },\n",
       "    {\n",
       "      \"id\": 8,\n",
       "      \"text\": \",\",\n",
       "      \"start_char\": 25,\n",
       "      \"end_char\": 26\n",
       "    },\n",
       "    {\n",
       "      \"id\": 9,\n",
       "      \"text\": \"France\",\n",
       "      \"start_char\": 27,\n",
       "      \"end_char\": 33\n",
       "    },\n",
       "    {\n",
       "      \"id\": 10,\n",
       "      \"text\": \"in\",\n",
       "      \"start_char\": 34,\n",
       "      \"end_char\": 36\n",
       "    },\n",
       "    {\n",
       "      \"id\": 11,\n",
       "      \"text\": \"the\",\n",
       "      \"start_char\": 37,\n",
       "      \"end_char\": 40\n",
       "    },\n",
       "    {\n",
       "      \"id\": 12,\n",
       "      \"text\": \"summer\",\n",
       "      \"start_char\": 41,\n",
       "      \"end_char\": 47\n",
       "    },\n",
       "    {\n",
       "      \"id\": 13,\n",
       "      \"text\": \".\",\n",
       "      \"start_char\": 47,\n",
       "      \"end_char\": 48\n",
       "    }\n",
       "  ]\n",
       "]"
      ]
     },
     "execution_count": 9,
     "metadata": {},
     "output_type": "execute_result"
    }
   ],
   "source": [
    "stanza_token(\"In 2017, he went to Paris, France in the summer.\")"
   ]
  },
  {
   "cell_type": "code",
   "execution_count": null,
   "id": "e78d4bbd",
   "metadata": {},
   "outputs": [],
   "source": []
  }
 ],
 "metadata": {
  "kernelspec": {
   "display_name": "Python 3 (ipykernel)",
   "language": "python",
   "name": "python3"
  },
  "language_info": {
   "codemirror_mode": {
    "name": "ipython",
    "version": 3
   },
   "file_extension": ".py",
   "mimetype": "text/x-python",
   "name": "python",
   "nbconvert_exporter": "python",
   "pygments_lexer": "ipython3",
   "version": "3.8.2"
  }
 },
 "nbformat": 4,
 "nbformat_minor": 5
}
