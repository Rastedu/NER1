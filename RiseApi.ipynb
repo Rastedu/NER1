{
 "cells": [
  {
   "cell_type": "code",
   "execution_count": null,
   "metadata": {
    "pycharm": {
     "is_executing": true
    }
   },
   "outputs": [],
   "source": [
    "from deeppavlov import build_model\n",
    "#You can use json \n",
    "#import pandas as pd\n",
    "#import json\n",
    "#with open('File_location.json') as f:  \n",
    "#data = json.load(f)\n",
    "#df=pd.DataFrame(data)\n",
    "\n",
    "model = build_model(\"ner_ontonotes_bert\", install=True, download=True)\n",
    "\n",
    "# get predictions for 'input_text1', 'input_text2'\n",
    "#model(df,'')\n",
    "model(['You can get to the MIPT by train on Sveltlovsk Station', ''])"
   ]
  },
  {
   "cell_type": "code",
   "execution_count": null,
   "metadata": {},
   "outputs": [],
   "source": []
  },
  {
   "cell_type": "markdown",
   "metadata": {},
   "source": []
  },
  {
   "cell_type": "code",
   "execution_count": null,
   "metadata": {},
   "outputs": [],
   "source": []
  }
 ],
 "metadata": {
  "kernelspec": {
   "display_name": "Python 3 (ipykernel)",
   "language": "python",
   "name": "python3"
  },
  "language_info": {
   "codemirror_mode": {
    "name": "ipython",
    "version": 3
   },
   "file_extension": ".py",
   "mimetype": "text/x-python",
   "name": "python",
   "nbconvert_exporter": "python",
   "pygments_lexer": "ipython3",
   "version": "3.8.2"
  }
 },
 "nbformat": 4,
 "nbformat_minor": 1
}
