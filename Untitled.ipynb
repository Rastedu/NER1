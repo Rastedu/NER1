{
 "cells": [
  {
   "cell_type": "code",
   "execution_count": null,
   "id": "29070b52",
   "metadata": {},
   "outputs": [],
   "source": [
    "pip install deeppavlov"
   ]
  },
  {
   "cell_type": "code",
   "execution_count": null,
   "id": "d0599ae3",
   "metadata": {},
   "outputs": [],
   "source": [
    "python -m deeppavlov download ner_ontonotes_bert"
   ]
  },
  {
   "cell_type": "code",
   "execution_count": null,
   "id": "2a2a5d08",
   "metadata": {},
   "outputs": [],
   "source": [
    "from deeppavlov import build_model"
   ]
  },
  {
   "cell_type": "code",
   "execution_count": null,
   "id": "a6cb46ac",
   "metadata": {},
   "outputs": [],
   "source": [
    "from deeppavlov import build_model\n",
    "#You can use json \n",
    "#import pandas as pd\n",
    "#import json\n",
    "#with open('File_location.json') as f:  \n",
    "#data = json.load(f)\n",
    "#df=pd.DataFrame(data)"
   ]
  },
  {
   "cell_type": "code",
   "execution_count": null,
   "id": "2a01e115",
   "metadata": {},
   "outputs": [],
   "source": [
    "model = build_model(\"ner_ontonotes_bert\", install=True, download=True)\n",
    "\n",
    "# get predictions for 'input_text1', 'input_text2'\n",
    "#model(df,'')"
   ]
  },
  {
   "cell_type": "code",
   "execution_count": null,
   "id": "723a2be0",
   "metadata": {},
   "outputs": [],
   "source": [
    "model(['You can get to the MIPT by train on Sveltlovsk Station', ''])"
   ]
  }
 ],
 "metadata": {
  "kernelspec": {
   "display_name": "Python 3 (ipykernel)",
   "language": "python",
   "name": "python3"
  },
  "language_info": {
   "codemirror_mode": {
    "name": "ipython",
    "version": 3
   },
   "file_extension": ".py",
   "mimetype": "text/x-python",
   "name": "python",
   "nbconvert_exporter": "python",
   "pygments_lexer": "ipython3",
   "version": "3.8.2"
  }
 },
 "nbformat": 4,
 "nbformat_minor": 5
}
