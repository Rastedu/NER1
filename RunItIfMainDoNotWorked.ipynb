{
 "cells": [
  {
   "cell_type": "code",
   "execution_count": null,
   "id": "20210085",
   "metadata": {},
   "outputs": [],
   "source": [
    "pip install deeppavlov"
   ]
  },
  {
   "cell_type": "code",
   "execution_count": null,
   "id": "0b632711",
   "metadata": {},
   "outputs": [],
   "source": [
    "python -m deeppavlov download ner_ontonotes_bert"
   ]
  },
  {
   "cell_type": "code",
   "execution_count": null,
   "id": "ca4e1f4b",
   "metadata": {},
   "outputs": [],
   "source": [
    "from deeppavlov import build_model"
   ]
  },
  {
   "cell_type": "code",
   "execution_count": null,
   "id": "a82aa26f",
   "metadata": {},
   "outputs": [],
   "source": [
    "from deeppavlov import build_model\n",
    "#You can use json \n",
    "#import pandas as pd\n",
    "#import json\n",
    "#with open('File_location.json') as f:  \n",
    "#data = json.load(f)\n",
    "#df=pd.DataFrame(data)"
   ]
  },
  {
   "cell_type": "code",
   "execution_count": null,
   "id": "0ad5c3e0",
   "metadata": {},
   "outputs": [],
   "source": [
    "model = build_model(\"ner_ontonotes_bert\", install=True, download=True)\n",
    "\n",
    "# get predictions for 'input_text1', 'input_text2'\n",
    "#model(df,'')"
   ]
  },
  {
   "cell_type": "code",
   "execution_count": null,
   "id": "658dd9c6",
   "metadata": {},
   "outputs": [],
   "source": [
    "model(['You can get to the MIPT by train on Sveltlovsk Station', ''])"
   ]
  },
  {
   "cell_type": "code",
   "execution_count": null,
   "id": "4ee5a82e",
   "metadata": {},
   "outputs": [],
   "source": []
  }
 ],
 "metadata": {
  "kernelspec": {
   "display_name": "Python 3 (ipykernel)",
   "language": "python",
   "name": "python3"
  },
  "language_info": {
   "codemirror_mode": {
    "name": "ipython",
    "version": 3
   },
   "file_extension": ".py",
   "mimetype": "text/x-python",
   "name": "python",
   "nbconvert_exporter": "python",
   "pygments_lexer": "ipython3",
   "version": "3.8.2"
  }
 },
 "nbformat": 4,
 "nbformat_minor": 5
}
